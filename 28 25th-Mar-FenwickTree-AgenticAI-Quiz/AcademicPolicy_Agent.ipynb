{
 "cells": [
  {
   "cell_type": "markdown",
   "id": "f23556a0",
   "metadata": {},
   "source": [
    "# 🎓 Agentic AI: University Academic Policy Assistant"
   ]
  },
  {
   "cell_type": "code",
   "execution_count": null,
   "id": "088abad4",
   "metadata": {},
   "outputs": [],
   "source": [
    "!pip install openai langchain pymongo faiss-cpu"
   ]
  },
  {
   "cell_type": "code",
   "execution_count": null,
   "id": "b8fa6ac6",
   "metadata": {},
   "outputs": [],
   "source": [
    "academic_policy_text = \"\"\"Students must complete a minimum of 120 credits to graduate, with at least 40 credits in major-specific courses. Each semester, students must register for a minimum of 12 credits and a maximum of 24.\n",
    "\n",
    "Students must maintain a CGPA of 6.0 or above for good academic standing. A CGPA below 5.0 for two consecutive semesters may result in academic probation. Attendance must be at least 75% in each course to be eligible for final exams.\n",
    "\n",
    "Students are allowed to retake failed courses or improve grades in up to 4 subjects across their academic tenure. Re-examinations are permitted only for genuine reasons and require approval from the academic dean.\n",
    "\n",
    "Internships are mandatory for all students in their 6th semester and must be registered officially through the university portal. Any case of plagiarism in submitted assignments will lead to disciplinary action as per university policy.\n",
    "\n",
    "Students with outstanding dues will not be allowed to register for the next semester or receive transcripts until dues are cleared.\"\"\""
   ]
  },
  {
   "cell_type": "code",
   "execution_count": null,
   "id": "fa77084f",
   "metadata": {},
   "outputs": [],
   "source": [
    "from langchain.vectorstores import FAISS\n",
    "from langchain.embeddings import OpenAIEmbeddings\n",
    "from langchain.schema import Document\n",
    "from langchain.text_splitter import RecursiveCharacterTextSplitter\n",
    "import os\n",
    "\n",
    "os.environ['OPENAI_API_KEY'] = 'your_openai_api_key_here'\n",
    "splitter = RecursiveCharacterTextSplitter(chunk_size=300, chunk_overlap=50)\n",
    "docs = splitter.create_documents([academic_policy_text])\n",
    "embedding = OpenAIEmbeddings()\n",
    "vectorstore = FAISS.from_documents(docs, embedding)"
   ]
  },
  {
   "cell_type": "code",
   "execution_count": null,
   "id": "702aef7d",
   "metadata": {},
   "outputs": [],
   "source": [
    "from pymongo import MongoClient\n",
    "client = MongoClient('mongodb://localhost:27017')\n",
    "db = client['university']\n",
    "students = db['students']\n",
    "\n",
    "def check_graduation_eligibility(name):\n",
    "    s = students.find_one({\"name\": name})\n",
    "    if not s: return 'Student not found.'\n",
    "    return 'Eligible for graduation.' if s['credits_completed'] >= 120 else 'Not eligible yet.'\n",
    "\n",
    "def get_cgpa_status(name):\n",
    "    s = students.find_one({\"name\": name})\n",
    "    if not s: return 'Student not found.'\n",
    "    if s['cgpa'] >= 6.0:\n",
    "        return f\"CGPA is {s['cgpa']}. In good standing.\"\n",
    "    elif s['cgpa'] < 5.0:\n",
    "        return f\"CGPA is {s['cgpa']}. May be on academic probation.\"\n",
    "    else:\n",
    "        return f\"CGPA is {s['cgpa']}. Needs improvement.\"\n",
    "\n",
    "def check_attendance(name, course):\n",
    "    s = students.find_one({\"name\": name})\n",
    "    if not s: return 'Student not found.'\n",
    "    attendance = s.get('attendance', {}).get(course)\n",
    "    if attendance is None: return f'No attendance record for {course}.'\n",
    "    return f\"Attendance for {course} is {attendance}%. {'Eligible' if attendance >= 75 else 'Not eligible'} for final exam.\"\n",
    "\n",
    "def check_dues(name):\n",
    "    s = students.find_one({\"name\": name})\n",
    "    if not s: return 'Student not found.'\n",
    "    return 'No dues pending.' if not s['dues_pending'] else 'Dues are pending.'"
   ]
  },
  {
   "cell_type": "code",
   "execution_count": null,
   "id": "403b7c2f",
   "metadata": {},
   "outputs": [],
   "source": [
    "from langchain.chains import RetrievalQA\n",
    "from langchain.chat_models import ChatOpenAI\n",
    "from langchain.agents import Tool, initialize_agent\n",
    "\n",
    "llm = ChatOpenAI(model_name='gpt-4o')\n",
    "retriever = vectorstore.as_retriever()\n",
    "qa_chain = RetrievalQA.from_chain_type(llm=llm, retriever=retriever)\n",
    "\n",
    "tools = [\n",
    "    Tool(name='PolicyQA', func=qa_chain.run, description='Answer academic policy questions'),\n",
    "    Tool(name='CheckGraduationEligibility', func=lambda x: check_graduation_eligibility('Alice'), description='Check graduation credit status'),\n",
    "    Tool(name='GetCGPAStatus', func=lambda x: get_cgpa_status('Alice'), description='Fetch CGPA and standing'),\n",
    "    Tool(name='CheckAttendance', func=lambda x: check_attendance('Alice', 'ENG100'), description='Check attendance status for course'),\n",
    "    Tool(name='CheckDues', func=lambda x: check_dues('Alice'), description='Check if student has pending dues')\n",
    "]\n",
    "\n",
    "agent = initialize_agent(tools=tools, agent='zero-shot-react-description', llm=llm, verbose=True)"
   ]
  },
  {
   "cell_type": "code",
   "execution_count": null,
   "id": "53350f4d",
   "metadata": {},
   "outputs": [],
   "source": [
    "agent.run('How many credits do I need to graduate?')\n",
    "agent.run('I am Alice, what is my CGPA and am I in good standing?')\n",
    "agent.run('Can I take the final exam in ENG100?')\n",
    "agent.run('Do I have any pending dues?')"
   ]
  },
  {
   "cell_type": "code",
   "execution_count": null,
   "id": "451c1c02",
   "metadata": {},
   "outputs": [],
   "source": [
    "students.delete_many({})\n",
    "students.insert_one({\n",
    "    \"student_id\": \"UG20231001\",\n",
    "    \"name\": \"Alice\",\n",
    "    \"cgpa\": 6.8,\n",
    "    \"credits_completed\": 110,\n",
    "    \"attendance\": {\n",
    "        \"Math101\": 82,\n",
    "        \"CS201\": 76,\n",
    "        \"ENG100\": 65\n",
    "    },\n",
    "    \"dues_pending\": False,\n",
    "    \"courses_retaken\": [\"CS101\", \"PHY102\"]\n",
    "})"
   ]
  }
 ],
 "metadata": {},
 "nbformat": 4,
 "nbformat_minor": 5
}
