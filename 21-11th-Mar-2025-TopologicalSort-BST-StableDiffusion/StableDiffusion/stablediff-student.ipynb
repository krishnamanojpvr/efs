{
 "cells": [
  {
   "cell_type": "raw",
   "id": "274dd76d-9842-4b6c-aa4e-3d0758927dae",
   "metadata": {},
   "source": [
    "# Problem Statement:\n",
    "# Implement a basic diffusion model from scratch using PyTorch.\n",
    "# 1. Define the forward diffusion process (adding noise to images).\n",
    "# 2. Train a neural network (U-Net) to reverse the diffusion process.\n",
    "# 3. Generate images from pure noise using the trained model.\n",
    "\n",
    "# ANSI Diagram Representation:\n",
    "#\n",
    "# +-------------------+\n",
    "# |   Original Image  |\n",
    "# +-------------------+\n",
    "#           |\n",
    "#           v (Forward Diffusion)\n",
    "# +-------------------+\n",
    "# |  Noisy Image (t)  |\n",
    "# +-------------------+\n",
    "#           |\n",
    "#           v (Reverse Diffusion)\n",
    "# +-------------------+\n",
    "# |  Reconstructed Image |\n",
    "# +-------------------+\n",
    "#\n"
   ]
  },
  {
   "cell_type": "code",
   "execution_count": 59,
   "id": "9b8a6b08-8991-4fe3-b42d-e5d0b4dae8fb",
   "metadata": {},
   "outputs": [],
   "source": [
    "import torch\n",
    "import torch.nn as nn\n",
    "import torch.nn.functional as F\n",
    "import numpy as np\n",
    "import matplotlib.pyplot as plt\n",
    "from torchvision import datasets, transforms\n",
    "from torch.utils.data import DataLoader\n",
    "from tqdm import tqdm\n",
    "from PIL import Image"
   ]
  },
  {
   "cell_type": "code",
   "execution_count": null,
   "id": "5a1ebd73-1f07-4a58-9999-ebdce7526dfd",
   "metadata": {},
   "outputs": [
    {
     "data": {
      "image/png": "[encoded data removed]",
      "text/plain": [
       "<Figure size 1000x500 with 5 Axes>"
      ]
     },
     "metadata": {},
     "output_type": "display_data"
    }
   ],
   "source": [
    "\n",
    "T = 200  \n",
    "beta_start = 1e-4\n",
    "beta_end = 0.02\n",
    "betas = torch.linspace(beta_start, beta_end, T)  \n",
    "\n",
    "alphas = 1 - betas\n",
    "alphas_cumprod = torch.cumprod(alphas, dim=0)  \n",
    "\n",
    "def add_noise(image, t):\n",
    "    \"\"\"Adds Gaussian noise to an image at time step t.\"\"\"\n",
    "    sqrt_alpha_t = torch.sqrt(alphas_cumprod[t])\n",
    "    sqrt_one_minus_alpha_t = torch.sqrt(1 - alphas_cumprod[t])\n",
    "    noise = torch.randn_like(image)\n",
    "    return sqrt_alpha_t * image + sqrt_one_minus_alpha_t * noise, noise\n",
    "\n",
    "transform = transforms.Compose([\n",
    "    transforms.Resize((32, 32)),\n",
    "    transforms.ToTensor()\n",
    "])\n",
    "\n",
    "DATASET_PATH = \"/srv/shareddata/datasets/course101/minst-data-vae\"  # Change this path to your local MNIST dataset\n",
    "\n",
    "dataset = datasets.DatasetFolder(root=DATASET_PATH, loader=lambda x: Image.open(x).convert(\"L\"), extensions=('png', 'jpg', 'jpeg'), transform=transform)\n",
    "dataloader = DataLoader(dataset, batch_size=64, shuffle=True)\n",
    "\n",
    "fig, axes = plt.subplots(1, 5, figsize=(10, 5))\n",
    "time_steps = [0, 50, 100, 150, 199]\n",
    "\n",
    "for i, t in enumerate(time_steps):\n",
    "    noisy_image, _ = add_noise(dataset[0][0], t)\n",
    "    axes[i].imshow(noisy_image.squeeze(), cmap=\"gray\")\n",
    "    axes[i].set_title(f\"Step {t}\")\n",
    "    axes[i].axis(\"off\")\n",
    "\n",
    "plt.show()\n"
   ]
  },
  {
   "cell_type": "code",
   "execution_count": 61,
   "id": "0e836f11-eeb0-4da8-aff2-98ee137d638d",
   "metadata": {},
   "outputs": [],
   "source": [
    "class SimpleUNet(nn.Module):\n",
    "    def __init__(self):\n",
    "        super().__init__()\n",
    "\n",
    "        self.encoder = nn.Sequential(\n",
    "            nn.Conv2d(1, 64, kernel_size=3, stride=1, padding=1),\n",
    "            nn.ReLU(),\n",
    "            nn.Conv2d(64, 128, kernel_size=3, stride=2, padding=1),\n",
    "            nn.ReLU(),\n",
    "        )\n",
    "\n",
    "        self.middle = nn.Sequential(\n",
    "            nn.Conv2d(128, 128, kernel_size=3, stride=1, padding=1),\n",
    "            nn.ReLU()\n",
    "        )\n",
    "\n",
    "        self.decoder = nn.Sequential(\n",
    "            nn.ConvTranspose2d(128, 64, kernel_size=4, stride=2, padding=1),\n",
    "            nn.ReLU(),\n",
    "            nn.Conv2d(64, 1, kernel_size=3, stride=1, padding=1),\n",
    "        )\n",
    "\n",
    "    def forward(self, x):\n",
    "        x = self.encoder(x)\n",
    "        x = self.middle(x)\n",
    "        x = self.decoder(x)\n",
    "        return x\n",
    "\n",
    "unet = SimpleUNet()\n"
   ]
  },
  {
   "cell_type": "code",
   "execution_count": 62,
   "id": "8b1f17b1-0d96-4bcd-a661-0201c96b04e3",
   "metadata": {},
   "outputs": [
    {
     "name": "stderr",
     "output_type": "stream",
     "text": [
      "100%|██████████| 2/2 [00:00<00:00, 34.81it/s]\n"
     ]
    },
    {
     "name": "stdout",
     "output_type": "stream",
     "text": [
      "Epoch 1, Loss: 1.0873\n"
     ]
    },
    {
     "name": "stderr",
     "output_type": "stream",
     "text": [
      "100%|██████████| 2/2 [00:00<00:00, 39.91it/s]\n"
     ]
    },
    {
     "name": "stdout",
     "output_type": "stream",
     "text": [
      "Epoch 2, Loss: 0.9400\n"
     ]
    },
    {
     "name": "stderr",
     "output_type": "stream",
     "text": [
      "100%|██████████| 2/2 [00:00<00:00, 40.10it/s]\n"
     ]
    },
    {
     "name": "stdout",
     "output_type": "stream",
     "text": [
      "Epoch 3, Loss: 1.0307\n"
     ]
    },
    {
     "name": "stderr",
     "output_type": "stream",
     "text": [
      "100%|██████████| 2/2 [00:00<00:00, 40.08it/s]\n"
     ]
    },
    {
     "name": "stdout",
     "output_type": "stream",
     "text": [
      "Epoch 4, Loss: 0.9706\n"
     ]
    },
    {
     "name": "stderr",
     "output_type": "stream",
     "text": [
      "100%|██████████| 2/2 [00:00<00:00, 39.85it/s]"
     ]
    },
    {
     "name": "stdout",
     "output_type": "stream",
     "text": [
      "Epoch 5, Loss: 0.8263\n"
     ]
    },
    {
     "name": "stderr",
     "output_type": "stream",
     "text": [
      "\n"
     ]
    }
   ],
   "source": [
    "optimizer = torch.optim.Adam(unet.parameters(), lr=1e-3)\n",
    "loss_fn = nn.MSELoss()\n",
    "\n",
    "num_epochs = 5\n",
    "device = \"cuda\" if torch.cuda.is_available() else \"cpu\"\n",
    "unet.to(device)\n",
    "\n",
    "for epoch in range(num_epochs):\n",
    "    for images, _ in tqdm(dataloader):\n",
    "        images = images[0].to(device)  # Fix unpacking issue\n",
    "        t = torch.randint(0, T, (images.shape[0],), device=device)\n",
    "        noisy_images, noise = add_noise(images, t)\n",
    "        predicted_noise = unet(noisy_images)\n",
    "        loss = loss_fn(predicted_noise, noise)\n",
    "        optimizer.zero_grad()\n",
    "        loss.backward()\n",
    "        optimizer.step()\n",
    "    print(f\"Epoch {epoch+1}, Loss: {loss.item():.4f}\")\n",
    "\n"
   ]
  },
  {
   "cell_type": "code",
   "execution_count": 63,
   "id": "3f17ae2d-c78c-40f1-9a4b-297b822e5824",
   "metadata": {},
   "outputs": [
    {
     "data": {
      "image/png": "[encoded data removed]",
      "text/plain": [
       "<Figure size 640x480 with 1 Axes>"
      ]
     },
     "metadata": {},
     "output_type": "display_data"
    }
   ],
   "source": [
    "@torch.no_grad()\n",
    "def generate_image():\n",
    "    x = torch.randn((1, 1, 32, 32), device=device)  # Start with random noise\n",
    "    for t in reversed(range(T)):\n",
    "        noise_pred = unet(x)\n",
    "        alpha_t = torch.sqrt(alphas_cumprod[t])\n",
    "        beta_t = torch.sqrt(1 - alphas_cumprod[t])\n",
    "        if t > 0:\n",
    "            z = torch.randn_like(x)\n",
    "            x = (1 / alpha_t) * (x - beta_t * noise_pred) + torch.sqrt(betas[t]) * z\n",
    "        else:\n",
    "            x = (1 / alpha_t) * (x - beta_t * noise_pred)\n",
    "    return x\n",
    "\n",
    "generated_image = generate_image().cpu().squeeze()\n",
    "plt.imshow(generated_image, cmap=\"gray\")\n",
    "plt.axis(\"off\")\n",
    "plt.show()\n"
   ]
  }
 ],
 "metadata": {
  "kernelspec": {
   "display_name": "Python 3 (ipykernel)",
   "language": "python",
   "name": "python3"
  },
  "language_info": {
   "codemirror_mode": {
    "name": "ipython",
    "version": 3
   },
   "file_extension": ".py",
   "mimetype": "text/x-python",
   "name": "python",
   "nbconvert_exporter": "python",
   "pygments_lexer": "ipython3",
   "version": "3.10.15"
  }
 },
 "nbformat": 4,
 "nbformat_minor": 5
}
